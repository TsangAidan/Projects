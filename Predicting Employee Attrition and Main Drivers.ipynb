{
 "cells": [
  {
   "cell_type": "markdown",
   "metadata": {},
   "source": [
    "# "
   ]
  },
  {
   "cell_type": "markdown",
   "metadata": {},
   "source": [
    "# Employee Attrition \n",
    "\n"
   ]
  },
  {
   "cell_type": "markdown",
   "metadata": {},
   "source": [
    "###  Problem statement: \n",
    "Employee attrition refers to the percentage of workers who leave an organization and are replaced by new employees. A high rate of attrition in an organization leads to increased recruitment, hiring and training costs. Not only it is costly, but qualified and competent replacements are hard to find.  The Attrition Prediction model estimates the attrition risk for your employee populations in real-time. The purpose of this case is to uncover the factors that lead to employee attrition and explore important drivers of employee attrition.\n",
    "\n",
    "\n"
   ]
  },
  {
   "cell_type": "markdown",
   "metadata": {},
   "source": [
    "### Required Libraries "
   ]
  },
  {
   "cell_type": "code",
   "execution_count": 15,
   "metadata": {},
   "outputs": [],
   "source": [
    "import pandas as pd\n",
    "import seaborn as sns\n",
    "import matplotlib.pyplot as plt \n",
    "import matplotlib\n",
    "from sklearn.model_selection import train_test_split\n",
    "import random\n",
    "from sklearn.tree import DecisionTreeClassifier\n",
    "from sklearn.metrics import accuracy_score\n",
    "from sklearn.ensemble import RandomForestClassifier\n",
    "from xgboost import XGBClassifier\n",
    "from sklearn.metrics import confusion_matrix\n",
    "from sklearn.metrics import precision_score,recall_score,precision_recall_curve,plot_precision_recall_curve,f1_score,accuracy_score,roc_auc_score\n",
    "from sklearn.model_selection import GridSearchCV\n",
    "from sklearn.ensemble import GradientBoostingClassifier\n",
    "\n",
    "\n",
    "\n",
    "font = {#'family' : 'normal',\n",
    "        #'weight' : 'bold',\n",
    "        'size'   : 15}\n",
    "matplotlib.rc('font', **font)"
   ]
  },
  {
   "cell_type": "markdown",
   "metadata": {},
   "source": [
    "### Uploading Dataset "
   ]
  },
  {
   "cell_type": "code",
   "execution_count": 16,
   "metadata": {},
   "outputs": [
    {
     "data": {
      "text/html": [
       "<div>\n",
       "<style scoped>\n",
       "    .dataframe tbody tr th:only-of-type {\n",
       "        vertical-align: middle;\n",
       "    }\n",
       "\n",
       "    .dataframe tbody tr th {\n",
       "        vertical-align: top;\n",
       "    }\n",
       "\n",
       "    .dataframe thead th {\n",
       "        text-align: right;\n",
       "    }\n",
       "</style>\n",
       "<table border=\"1\" class=\"dataframe\">\n",
       "  <thead>\n",
       "    <tr style=\"text-align: right;\">\n",
       "      <th></th>\n",
       "      <th>Age</th>\n",
       "      <th>Attrition</th>\n",
       "      <th>BusinessTravel</th>\n",
       "      <th>DailyRate</th>\n",
       "      <th>Department</th>\n",
       "      <th>DistanceFromHome</th>\n",
       "      <th>Education</th>\n",
       "      <th>EducationField</th>\n",
       "      <th>EnvironmentSatisfaction</th>\n",
       "      <th>Gender</th>\n",
       "      <th>...</th>\n",
       "      <th>PerformanceRating</th>\n",
       "      <th>RelationshipSatisfaction</th>\n",
       "      <th>StockOptionLevel</th>\n",
       "      <th>TotalWorkingYears</th>\n",
       "      <th>TrainingTimesLastYear</th>\n",
       "      <th>WorkLifeBalance</th>\n",
       "      <th>YearsAtCompany</th>\n",
       "      <th>YearsInCurrentRole</th>\n",
       "      <th>YearsSinceLastPromotion</th>\n",
       "      <th>YearsWithCurrManager</th>\n",
       "    </tr>\n",
       "  </thead>\n",
       "  <tbody>\n",
       "    <tr>\n",
       "      <th>0</th>\n",
       "      <td>41</td>\n",
       "      <td>Yes</td>\n",
       "      <td>Travel_Rarely</td>\n",
       "      <td>1102</td>\n",
       "      <td>Sales</td>\n",
       "      <td>1</td>\n",
       "      <td>College</td>\n",
       "      <td>Life_Sciences</td>\n",
       "      <td>Medium</td>\n",
       "      <td>Female</td>\n",
       "      <td>...</td>\n",
       "      <td>Excellent</td>\n",
       "      <td>Low</td>\n",
       "      <td>0</td>\n",
       "      <td>8</td>\n",
       "      <td>0</td>\n",
       "      <td>Bad</td>\n",
       "      <td>6</td>\n",
       "      <td>4</td>\n",
       "      <td>0</td>\n",
       "      <td>5</td>\n",
       "    </tr>\n",
       "    <tr>\n",
       "      <th>1</th>\n",
       "      <td>49</td>\n",
       "      <td>No</td>\n",
       "      <td>Travel_Frequently</td>\n",
       "      <td>279</td>\n",
       "      <td>Research_Development</td>\n",
       "      <td>8</td>\n",
       "      <td>Below_College</td>\n",
       "      <td>Life_Sciences</td>\n",
       "      <td>High</td>\n",
       "      <td>Male</td>\n",
       "      <td>...</td>\n",
       "      <td>Outstanding</td>\n",
       "      <td>Very_High</td>\n",
       "      <td>1</td>\n",
       "      <td>10</td>\n",
       "      <td>3</td>\n",
       "      <td>Better</td>\n",
       "      <td>10</td>\n",
       "      <td>7</td>\n",
       "      <td>1</td>\n",
       "      <td>7</td>\n",
       "    </tr>\n",
       "    <tr>\n",
       "      <th>2</th>\n",
       "      <td>37</td>\n",
       "      <td>Yes</td>\n",
       "      <td>Travel_Rarely</td>\n",
       "      <td>1373</td>\n",
       "      <td>Research_Development</td>\n",
       "      <td>2</td>\n",
       "      <td>College</td>\n",
       "      <td>Other</td>\n",
       "      <td>Very_High</td>\n",
       "      <td>Male</td>\n",
       "      <td>...</td>\n",
       "      <td>Excellent</td>\n",
       "      <td>Medium</td>\n",
       "      <td>0</td>\n",
       "      <td>7</td>\n",
       "      <td>3</td>\n",
       "      <td>Better</td>\n",
       "      <td>0</td>\n",
       "      <td>0</td>\n",
       "      <td>0</td>\n",
       "      <td>0</td>\n",
       "    </tr>\n",
       "    <tr>\n",
       "      <th>3</th>\n",
       "      <td>33</td>\n",
       "      <td>No</td>\n",
       "      <td>Travel_Frequently</td>\n",
       "      <td>1392</td>\n",
       "      <td>Research_Development</td>\n",
       "      <td>3</td>\n",
       "      <td>Master</td>\n",
       "      <td>Life_Sciences</td>\n",
       "      <td>Very_High</td>\n",
       "      <td>Female</td>\n",
       "      <td>...</td>\n",
       "      <td>Excellent</td>\n",
       "      <td>High</td>\n",
       "      <td>0</td>\n",
       "      <td>8</td>\n",
       "      <td>3</td>\n",
       "      <td>Better</td>\n",
       "      <td>8</td>\n",
       "      <td>7</td>\n",
       "      <td>3</td>\n",
       "      <td>0</td>\n",
       "    </tr>\n",
       "    <tr>\n",
       "      <th>4</th>\n",
       "      <td>27</td>\n",
       "      <td>No</td>\n",
       "      <td>Travel_Rarely</td>\n",
       "      <td>591</td>\n",
       "      <td>Research_Development</td>\n",
       "      <td>2</td>\n",
       "      <td>Below_College</td>\n",
       "      <td>Medical</td>\n",
       "      <td>Low</td>\n",
       "      <td>Male</td>\n",
       "      <td>...</td>\n",
       "      <td>Excellent</td>\n",
       "      <td>Very_High</td>\n",
       "      <td>1</td>\n",
       "      <td>6</td>\n",
       "      <td>3</td>\n",
       "      <td>Better</td>\n",
       "      <td>2</td>\n",
       "      <td>2</td>\n",
       "      <td>2</td>\n",
       "      <td>2</td>\n",
       "    </tr>\n",
       "  </tbody>\n",
       "</table>\n",
       "<p>5 rows × 31 columns</p>\n",
       "</div>"
      ],
      "text/plain": [
       "   Age Attrition     BusinessTravel  DailyRate            Department  \\\n",
       "0   41       Yes      Travel_Rarely       1102                 Sales   \n",
       "1   49        No  Travel_Frequently        279  Research_Development   \n",
       "2   37       Yes      Travel_Rarely       1373  Research_Development   \n",
       "3   33        No  Travel_Frequently       1392  Research_Development   \n",
       "4   27        No      Travel_Rarely        591  Research_Development   \n",
       "\n",
       "   DistanceFromHome      Education EducationField EnvironmentSatisfaction  \\\n",
       "0                 1        College  Life_Sciences                  Medium   \n",
       "1                 8  Below_College  Life_Sciences                    High   \n",
       "2                 2        College          Other               Very_High   \n",
       "3                 3         Master  Life_Sciences               Very_High   \n",
       "4                 2  Below_College        Medical                     Low   \n",
       "\n",
       "   Gender  ...  PerformanceRating RelationshipSatisfaction  StockOptionLevel  \\\n",
       "0  Female  ...          Excellent                      Low                 0   \n",
       "1    Male  ...        Outstanding                Very_High                 1   \n",
       "2    Male  ...          Excellent                   Medium                 0   \n",
       "3  Female  ...          Excellent                     High                 0   \n",
       "4    Male  ...          Excellent                Very_High                 1   \n",
       "\n",
       "  TotalWorkingYears TrainingTimesLastYear WorkLifeBalance  YearsAtCompany  \\\n",
       "0                 8                     0             Bad               6   \n",
       "1                10                     3          Better              10   \n",
       "2                 7                     3          Better               0   \n",
       "3                 8                     3          Better               8   \n",
       "4                 6                     3          Better               2   \n",
       "\n",
       "   YearsInCurrentRole  YearsSinceLastPromotion YearsWithCurrManager  \n",
       "0                   4                        0                    5  \n",
       "1                   7                        1                    7  \n",
       "2                   0                        0                    0  \n",
       "3                   7                        3                    0  \n",
       "4                   2                        2                    2  \n",
       "\n",
       "[5 rows x 31 columns]"
      ]
     },
     "execution_count": 16,
     "metadata": {},
     "output_type": "execute_result"
    }
   ],
   "source": [
    "data = pd.read_csv('attrition.csv')\n",
    "data.drop('Unnamed: 0',axis=1, inplace=True)\n",
    "data.head()"
   ]
  },
  {
   "cell_type": "markdown",
   "metadata": {},
   "source": [
    "###  Function to evaluate performance of Classification model"
   ]
  },
  {
   "cell_type": "code",
   "execution_count": 17,
   "metadata": {},
   "outputs": [],
   "source": [
    "def evaluate(model, Y_test, X_test,X_train,Y_train): \n",
    "    \n",
    "    # predict the target on the train dataset\n",
    "    predict_train = model.predict(X_train)\n",
    "\n",
    "    # Accuray Score on train dataset\n",
    "    accuracy_train = accuracy_score(Y_train,predict_train)\n",
    "    print('Accuracy Score on train dataset : ', round(accuracy_train,2))\n",
    "\n",
    "    # predict the target on the test dataset\n",
    "    predict_test = model.predict(X_test)\n",
    "\n",
    "    # Accuracy Score on test dataset\n",
    "    accuracy_test = accuracy_score(Y_test,predict_test)\n",
    "    print('Accuracy_score on test dataset : ', round(accuracy_test,2), '\\n')\n",
    "    \n",
    "    precision = precision_score(Y_test,  predict_test)\n",
    "    recall = recall_score(Y_test,  predict_test)\n",
    "    accuracy= accuracy_score(Y_test,  predict_test)\n",
    "    F1_score= f1_score(Y_test,  predict_test)\n",
    "\n",
    "    print('Model Performance')\n",
    "    print('Precision: {}'.format(round(precision,2)))\n",
    "    print('Recall: {}'.format(round(recall,2)))\n",
    "    print('Accuracy:{}'.format(round(accuracy,2)))\n",
    "    print('F1-score: : {}'.format(round(F1_score,2)),'\\n')\n"
   ]
  },
  {
   "cell_type": "markdown",
   "metadata": {},
   "source": [
    "### Hint: use below mentioned method to call classification "
   ]
  },
  {
   "cell_type": "code",
   "execution_count": 18,
   "metadata": {},
   "outputs": [],
   "source": [
    "# Add in random state\n",
    "tree = DecisionTreeClassifier() # insteaed of DecisionTreeRegressor()\n",
    "forest = RandomForestClassifier() # instead of RandomForestRegressor()\n",
    "gbm = GradientBoostingClassifier() # instead of GradientBoostingRegressor()\n",
    "xgbc = XGBClassifier()             #Instead of XGBRegresor()"
   ]
  },
  {
   "cell_type": "markdown",
   "metadata": {},
   "source": [
    "# Questions"
   ]
  },
  {
   "cell_type": "markdown",
   "metadata": {},
   "source": [
    "### 1.  Apply Proper Data Pre-Processign and EDA"
   ]
  },
  {
   "cell_type": "code",
   "execution_count": 19,
   "metadata": {},
   "outputs": [
    {
     "name": "stdout",
     "output_type": "stream",
     "text": [
      "<class 'pandas.core.frame.DataFrame'>\n",
      "RangeIndex: 1470 entries, 0 to 1469\n",
      "Data columns (total 58 columns):\n",
      " #   Column                              Non-Null Count  Dtype\n",
      "---  ------                              --------------  -----\n",
      " 0   Age                                 1470 non-null   int64\n",
      " 1   DailyRate                           1470 non-null   int64\n",
      " 2   DistanceFromHome                    1470 non-null   int64\n",
      " 3   HourlyRate                          1470 non-null   int64\n",
      " 4   JobLevel                            1470 non-null   int64\n",
      " 5   MonthlyIncome                       1470 non-null   int64\n",
      " 6   MonthlyRate                         1470 non-null   int64\n",
      " 7   NumCompaniesWorked                  1470 non-null   int64\n",
      " 8   PercentSalaryHike                   1470 non-null   int64\n",
      " 9   StockOptionLevel                    1470 non-null   int64\n",
      " 10  TotalWorkingYears                   1470 non-null   int64\n",
      " 11  TrainingTimesLastYear               1470 non-null   int64\n",
      " 12  YearsAtCompany                      1470 non-null   int64\n",
      " 13  YearsInCurrentRole                  1470 non-null   int64\n",
      " 14  YearsSinceLastPromotion             1470 non-null   int64\n",
      " 15  YearsWithCurrManager                1470 non-null   int64\n",
      " 16  Attrition_Yes                       1470 non-null   uint8\n",
      " 17  BusinessTravel_Travel_Frequently    1470 non-null   uint8\n",
      " 18  BusinessTravel_Travel_Rarely        1470 non-null   uint8\n",
      " 19  Department_Research_Development     1470 non-null   uint8\n",
      " 20  Department_Sales                    1470 non-null   uint8\n",
      " 21  Education_Below_College             1470 non-null   uint8\n",
      " 22  Education_College                   1470 non-null   uint8\n",
      " 23  Education_Doctor                    1470 non-null   uint8\n",
      " 24  Education_Master                    1470 non-null   uint8\n",
      " 25  EducationField_Life_Sciences        1470 non-null   uint8\n",
      " 26  EducationField_Marketing            1470 non-null   uint8\n",
      " 27  EducationField_Medical              1470 non-null   uint8\n",
      " 28  EducationField_Other                1470 non-null   uint8\n",
      " 29  EducationField_Technical_Degree     1470 non-null   uint8\n",
      " 30  EnvironmentSatisfaction_Low         1470 non-null   uint8\n",
      " 31  EnvironmentSatisfaction_Medium      1470 non-null   uint8\n",
      " 32  EnvironmentSatisfaction_Very_High   1470 non-null   uint8\n",
      " 33  Gender_Male                         1470 non-null   uint8\n",
      " 34  JobInvolvement_Low                  1470 non-null   uint8\n",
      " 35  JobInvolvement_Medium               1470 non-null   uint8\n",
      " 36  JobInvolvement_Very_High            1470 non-null   uint8\n",
      " 37  JobRole_Human_Resources             1470 non-null   uint8\n",
      " 38  JobRole_Laboratory_Technician       1470 non-null   uint8\n",
      " 39  JobRole_Manager                     1470 non-null   uint8\n",
      " 40  JobRole_Manufacturing_Director      1470 non-null   uint8\n",
      " 41  JobRole_Research_Director           1470 non-null   uint8\n",
      " 42  JobRole_Research_Scientist          1470 non-null   uint8\n",
      " 43  JobRole_Sales_Executive             1470 non-null   uint8\n",
      " 44  JobRole_Sales_Representative        1470 non-null   uint8\n",
      " 45  JobSatisfaction_Low                 1470 non-null   uint8\n",
      " 46  JobSatisfaction_Medium              1470 non-null   uint8\n",
      " 47  JobSatisfaction_Very_High           1470 non-null   uint8\n",
      " 48  MaritalStatus_Married               1470 non-null   uint8\n",
      " 49  MaritalStatus_Single                1470 non-null   uint8\n",
      " 50  OverTime_Yes                        1470 non-null   uint8\n",
      " 51  PerformanceRating_Outstanding       1470 non-null   uint8\n",
      " 52  RelationshipSatisfaction_Low        1470 non-null   uint8\n",
      " 53  RelationshipSatisfaction_Medium     1470 non-null   uint8\n",
      " 54  RelationshipSatisfaction_Very_High  1470 non-null   uint8\n",
      " 55  WorkLifeBalance_Best                1470 non-null   uint8\n",
      " 56  WorkLifeBalance_Better              1470 non-null   uint8\n",
      " 57  WorkLifeBalance_Good                1470 non-null   uint8\n",
      "dtypes: int64(16), uint8(42)\n",
      "memory usage: 244.2 KB\n"
     ]
    }
   ],
   "source": [
    "data_transformed = data.copy(deep = True)\n",
    "data_transformed = pd.get_dummies(data_transformed, columns=data_transformed.columns[data_transformed.dtypes=='object'], drop_first=True)\n",
    "data_transformed.info()"
   ]
  },
  {
   "cell_type": "markdown",
   "metadata": {},
   "source": [
    "### 2. Split dataset to Trains and Test set (dont forget to set the seed)"
   ]
  },
  {
   "cell_type": "code",
   "execution_count": 20,
   "metadata": {},
   "outputs": [],
   "source": [
    "#Split the data\n",
    "X = data_transformed.loc[:,data_transformed.columns!='Attrition_Yes'].values\n",
    "Y = data_transformed.loc[:, 'Attrition_Yes'].values\n",
    "\n",
    "#Split the data into training and testing \n",
    "  \n",
    "X_train, X_test, Y_train, Y_test = train_test_split(X, Y, test_size=0.2, random_state=1)"
   ]
  },
  {
   "cell_type": "markdown",
   "metadata": {},
   "source": [
    "### 3. Fit Tree Classifier to the Train set (tune paramters) and evaluate performance using evalute() function"
   ]
  },
  {
   "cell_type": "code",
   "execution_count": 35,
   "metadata": {},
   "outputs": [
    {
     "name": "stdout",
     "output_type": "stream",
     "text": [
      "Accuracy Score on train dataset :  1.0\n",
      "Accuracy_score on test dataset :  0.79 \n",
      "\n",
      "Model Performance\n",
      "Precision: 0.47\n",
      "Recall: 0.43\n",
      "Accuracy:0.79\n",
      "F1-score: : 0.45 \n",
      "\n"
     ]
    }
   ],
   "source": [
    "tree_1 = DecisionTreeClassifier(random_state = 42)\n",
    "\n",
    "# fit the model with the training data\n",
    "tree_1.fit(X_train,Y_train)\n",
    "\n",
    "evaluate(tree_1, Y_test, X_test,X_train,Y_train)\n"
   ]
  },
  {
   "cell_type": "code",
   "execution_count": 36,
   "metadata": {},
   "outputs": [
    {
     "name": "stdout",
     "output_type": "stream",
     "text": [
      "Fitting 10 folds for each of 96 candidates, totalling 960 fits\n",
      "Accuracy Score on train dataset :  0.92\n",
      "Accuracy_score on test dataset :  0.79 \n",
      "\n",
      "Model Performance\n",
      "Precision: 0.45\n",
      "Recall: 0.34\n",
      "Accuracy:0.79\n",
      "F1-score: : 0.39 \n",
      "\n"
     ]
    }
   ],
   "source": [
    "# Create the parameter grid based on the results of random search \n",
    "param_grid = {\n",
    "    'max_depth': [20, 50, 80, 90, 100, 110],\n",
    "    'min_samples_leaf': [3, 4, 5,10],\n",
    "    'min_samples_split': [8, 10, 12 , 17],\n",
    "    'random_state' : [2]\n",
    "}\n",
    "\n",
    "# Instantiate the grid search model\n",
    "tree_cv = GridSearchCV(estimator = tree, param_grid = param_grid, scoring = 'recall', cv = 10, n_jobs = -1, verbose = 2)\n",
    "tree_cv.fit(X_train, Y_train)\n",
    "evaluate(tree_cv, Y_test, X_test,X_train,Y_train)"
   ]
  },
  {
   "cell_type": "markdown",
   "metadata": {},
   "source": [
    "### 4. Fit Random Forest to the Train set (tune parameters) and evaluate performance using evalute() function"
   ]
  },
  {
   "cell_type": "code",
   "execution_count": 27,
   "metadata": {},
   "outputs": [
    {
     "name": "stdout",
     "output_type": "stream",
     "text": [
      "Accuracy Score on train dataset :  0.98\n",
      "Accuracy_score on test dataset :  0.82 \n",
      "\n",
      "Model Performance\n",
      "Precision: 0.88\n",
      "Recall: 0.12\n",
      "Accuracy:0.82\n",
      "F1-score: : 0.21 \n",
      "\n"
     ]
    }
   ],
   "source": [
    "#Show the Confusion matrix and accaracy score for the model on the test data\n",
    "forest = RandomForestClassifier(n_estimators=10, random_state = 42)\n",
    "forest.fit(X_train, Y_train)\n",
    "\n",
    "evaluate(forest, Y_test, X_test,X_train,Y_train)"
   ]
  },
  {
   "cell_type": "code",
   "execution_count": 28,
   "metadata": {},
   "outputs": [
    {
     "name": "stdout",
     "output_type": "stream",
     "text": [
      "Fitting 10 folds for each of 48 candidates, totalling 480 fits\n",
      "Accuracy Score on train dataset :  0.95\n",
      "Accuracy_score on test dataset :  0.82 \n",
      "\n",
      "Model Performance\n",
      "Precision: 0.65\n",
      "Recall: 0.19\n",
      "Accuracy:0.82\n",
      "F1-score: : 0.29 \n",
      "\n"
     ]
    }
   ],
   "source": [
    "##### Parameter tunning RF\n",
    "param_grid = {\n",
    "    'max_depth': [10, 20, 30, 40],\n",
    "    'max_features': [2, 3,5, 10],\n",
    "    'min_samples_split': [8, 10, 12],\n",
    "    'random_state' : [2]\n",
    "}\n",
    "forest_cv = GridSearchCV(estimator = forest, param_grid = param_grid,  scoring = 'recall', cv = 10, n_jobs = -1, verbose = 2)\n",
    "forest_cv.fit(X_train, Y_train)\n",
    "evaluate(forest_cv, Y_test, X_test,X_train,Y_train)"
   ]
  },
  {
   "cell_type": "code",
   "execution_count": 29,
   "metadata": {},
   "outputs": [
    {
     "data": {
      "text/plain": [
       "{'max_depth': 20,\n",
       " 'max_features': 10,\n",
       " 'min_samples_split': 8,\n",
       " 'random_state': 2}"
      ]
     },
     "execution_count": 29,
     "metadata": {},
     "output_type": "execute_result"
    }
   ],
   "source": [
    "forest_cv.best_params_ "
   ]
  },
  {
   "cell_type": "markdown",
   "metadata": {},
   "source": [
    "### 5. Fit GBM  model to the Train Set and evaluate performance using evalute() function"
   ]
  },
  {
   "cell_type": "code",
   "execution_count": 30,
   "metadata": {},
   "outputs": [
    {
     "name": "stdout",
     "output_type": "stream",
     "text": [
      "Accuracy Score on train dataset :  1.0\n",
      "Accuracy_score on test dataset :  0.83 \n",
      "\n",
      "Model Performance\n",
      "Precision: 0.68\n",
      "Recall: 0.26\n",
      "Accuracy:0.83\n",
      "F1-score: : 0.38 \n",
      "\n"
     ]
    }
   ],
   "source": [
    "gbm = GradientBoostingClassifier(n_estimators=100, max_depth=5,random_state = 42)\n",
    "gbm.fit(X_train, Y_train)\n",
    "evaluate(gbm, Y_test, X_test,X_train,Y_train)"
   ]
  },
  {
   "cell_type": "code",
   "execution_count": 31,
   "metadata": {},
   "outputs": [
    {
     "name": "stdout",
     "output_type": "stream",
     "text": [
      "Fitting 2 folds for each of 70 candidates, totalling 140 fits\n",
      "Accuracy Score on train dataset :  1.0\n",
      "Accuracy_score on test dataset :  0.83 \n",
      "\n",
      "Model Performance\n",
      "Precision: 0.64\n",
      "Recall: 0.28\n",
      "Accuracy:0.83\n",
      "F1-score: : 0.39 \n",
      "\n"
     ]
    }
   ],
   "source": [
    "param_grid = {\n",
    "    \"learning_rate\": [0.01, 0.025, 0.05, 0.075, 0.1, 0.15, 0.2],\n",
    "     'min_samples_leaf': [1,2,3,4,5,6,7,8,9,10],\n",
    "     'random_state' : [2]\n",
    "    }\n",
    "gbm_cv = GridSearchCV(estimator = gbm, param_grid = param_grid, scoring = 'recall',cv = 2, n_jobs = -1, verbose = 2)\n",
    "gbm_cv.fit(X_train, Y_train)\n",
    "evaluate(gbm_cv, Y_test, X_test,X_train,Y_train)"
   ]
  },
  {
   "cell_type": "markdown",
   "metadata": {},
   "source": [
    "### 6. Fit XGBoost  model to the Train Set and evaluate performance using evalute() function"
   ]
  },
  {
   "cell_type": "code",
   "execution_count": 33,
   "metadata": {},
   "outputs": [
    {
     "name": "stdout",
     "output_type": "stream",
     "text": [
      "[14:50:51] WARNING: C:\\Windows\\Temp\\abs_557yfx631l\\croots\\recipe\\xgboost-split_1659548953302\\work\\src\\learner.cc:1115: Starting in XGBoost 1.3.0, the default evaluation metric used with the objective 'binary:logistic' was changed from 'error' to 'logloss'. Explicitly set eval_metric if you'd like to restore the old behavior.\n",
      "Accuracy Score on train dataset :  1.0\n",
      "Accuracy_score on test dataset :  0.83 \n",
      "\n",
      "Model Performance\n",
      "Precision: 0.65\n",
      "Recall: 0.29\n",
      "Accuracy:0.83\n",
      "F1-score: : 0.4 \n",
      "\n"
     ]
    },
    {
     "name": "stderr",
     "output_type": "stream",
     "text": [
      "C:\\Users\\aidan\\anaconda3\\lib\\site-packages\\xgboost\\sklearn.py:1224: UserWarning: The use of label encoder in XGBClassifier is deprecated and will be removed in a future release. To remove this warning, do the following: 1) Pass option use_label_encoder=False when constructing XGBClassifier object; and 2) Encode your labels (y) as integers starting with 0, i.e. 0, 1, 2, ..., [num_class - 1].\n",
      "  warnings.warn(label_encoder_deprecation_msg, UserWarning)\n"
     ]
    }
   ],
   "source": [
    "xgbc = XGBClassifier(random_state = 42)\n",
    "xgbc.fit(X_train, Y_train)\n",
    "evaluate(xgbc, Y_test, X_test,X_train,Y_train)"
   ]
  },
  {
   "cell_type": "code",
   "execution_count": 34,
   "metadata": {},
   "outputs": [
    {
     "name": "stdout",
     "output_type": "stream",
     "text": [
      "Fitting 2 folds for each of 42 candidates, totalling 84 fits\n",
      "[14:50:55] WARNING: C:\\Windows\\Temp\\abs_557yfx631l\\croots\\recipe\\xgboost-split_1659548953302\\work\\src\\learner.cc:1115: Starting in XGBoost 1.3.0, the default evaluation metric used with the objective 'binary:logistic' was changed from 'error' to 'logloss'. Explicitly set eval_metric if you'd like to restore the old behavior.\n",
      "Accuracy Score on train dataset :  0.93\n",
      "Accuracy_score on test dataset :  0.83 \n",
      "\n",
      "Model Performance\n",
      "Precision: 0.7\n",
      "Recall: 0.28\n",
      "Accuracy:0.83\n",
      "F1-score: : 0.4 \n",
      "\n"
     ]
    },
    {
     "name": "stderr",
     "output_type": "stream",
     "text": [
      "C:\\Users\\aidan\\anaconda3\\lib\\site-packages\\xgboost\\sklearn.py:1224: UserWarning: The use of label encoder in XGBClassifier is deprecated and will be removed in a future release. To remove this warning, do the following: 1) Pass option use_label_encoder=False when constructing XGBClassifier object; and 2) Encode your labels (y) as integers starting with 0, i.e. 0, 1, 2, ..., [num_class - 1].\n",
      "  warnings.warn(label_encoder_deprecation_msg, UserWarning)\n"
     ]
    }
   ],
   "source": [
    "param_grid = {\n",
    "    \"learning_rate\": [0.01, 0.025, 0.05, 0.075, 0.1, 0.15, 0.2],\n",
    "     'max_depth': [1,2,3,4,5,10],\n",
    "     'random_state' : [2]\n",
    "    }\n",
    "\n",
    "xgbc_cv = GridSearchCV(estimator = xgbc, param_grid = param_grid, scoring = 'recall',cv = 2, n_jobs = -1, verbose = 2)\n",
    "xgbc_cv.fit(X_train, Y_train)\n",
    "evaluate(xgbc_cv, Y_test, X_test,X_train,Y_train)"
   ]
  },
  {
   "cell_type": "markdown",
   "metadata": {},
   "source": [
    "### 7. Compare the performance of four developed models"
   ]
  },
  {
   "cell_type": "markdown",
   "metadata": {},
   "source": [
    "When we attempt to maximize the recall of all 4 models, we see that the tree based model does the best job reducing the amount of false negatives relative to true positives. On the other hand, the random forest model had the lowest recall of 0.19. We want to do our best at reducing the number of employees that leave, and so we want to reduce our false negative (when we don't think someone will leave but they actually do leave). This means that our recall is most important in the comparison of the performance of the models. \n",
    "\n",
    "Overall, the XGBoost model unsurprisingly had the best F1-score and the random forest model had the worst f1-score. Because of the limitation of computing power, the XGBoost model is better under the constraint to maximize f1-score whereas we may see the random forest model improve if more computing power was available."
   ]
  },
  {
   "cell_type": "markdown",
   "metadata": {},
   "source": [
    "### 8. Is the data imbalance? Is it causing problem in your model(s)? which of them ? why?"
   ]
  },
  {
   "cell_type": "code",
   "execution_count": 37,
   "metadata": {},
   "outputs": [
    {
     "name": "stdout",
     "output_type": "stream",
     "text": [
      "0    1233\n",
      "1     237\n",
      "Name: Attrition_Yes, dtype: int64 \n",
      "\n",
      "0    0.838776\n",
      "1    0.161224\n",
      "Name: Attrition_Yes, dtype: float64\n"
     ]
    }
   ],
   "source": [
    "print(data_transformed['Attrition_Yes'].value_counts(normalize=False),'\\n')\n",
    "\n",
    "print(data_transformed['Attrition_Yes'].value_counts(normalize=True))"
   ]
  },
  {
   "cell_type": "markdown",
   "metadata": {},
   "source": [
    "Yes, there is a data imbalance as we can observe a large of employees stay with the company. Relatively, the number of employees that quit only make up 16% of the data leading to a large imbalance between those that stay and quit in the data. This data imbalance is likely affecting the precision and recall scores of the models. The random forest model although it had the lowest recall, has the highest precision which is likely due to the data imbalance."
   ]
  },
  {
   "cell_type": "markdown",
   "metadata": {},
   "source": [
    "### 9. Derive important features using the best performed model"
   ]
  },
  {
   "cell_type": "code",
   "execution_count": 41,
   "metadata": {},
   "outputs": [
    {
     "name": "stderr",
     "output_type": "stream",
     "text": [
      "No artists with labels found to put in legend.  Note that artists whose label start with an underscore are ignored when legend() is called with no argument.\n"
     ]
    },
    {
     "data": {
      "image/png": "[encoded data removed]",
      "text/plain": [
       "<Figure size 720x504 with 1 Axes>"
      ]
     },
     "metadata": {
      "needs_background": "light"
     },
     "output_type": "display_data"
    }
   ],
   "source": [
    "k=data_transformed.drop('Attrition_Yes', axis=1).columns\n",
    "feature_imp = pd.Series(xgbc.feature_importances_,index=k).sort_values(ascending=False)\n",
    "\n",
    "plt.figure(figsize=(10,7))\n",
    "sns.barplot(x=feature_imp[feature_imp>0], y=feature_imp.index[feature_imp>0])\n",
    "# Add labels to your graph\n",
    "plt.xlabel('Feature Importance Score')\n",
    "plt.ylabel('Features')\n",
    "plt.title(\"Visualizing Important Features\")\n",
    "plt.legend()\n",
    "plt.show()"
   ]
  },
  {
   "cell_type": "markdown",
   "metadata": {},
   "source": [
    "### 10. Add transparacy to your modeling results "
   ]
  },
  {
   "cell_type": "markdown",
   "metadata": {},
   "source": [
    "It seems as though factors of a person's job affect the attrition rate including unsurprisingly work life balance, if overtime is done, their job level. Someone with the best work life balance will most likely be negatively affecting attrition rate (best work life balance means they are less likely to quit). As well, the job level of a person contributes signifigantly with people in higher up positions staying for longer than entry-level positions.\n",
    "\n",
    "On the other hand, education seems to be an unimportant feature in determining attrition rates."
   ]
  },
  {
   "cell_type": "markdown",
   "metadata": {},
   "source": [
    "### 11. Suggest proper solution to reduce the attrition rate."
   ]
  },
  {
   "cell_type": "markdown",
   "metadata": {},
   "source": [
    "To reduce attrition, employers have to ensure a decent worklife balance and not necessarily providing more compensation. Potentially making rules for work on weekend as well as limiting overtime work to maintain worklife balance for more employees. Simillarly, potentailly hiring more people so that the workload of each person is lower and everyone is able to have a decent worklife balance could help reduce attrition."
   ]
  },
  {
   "cell_type": "code",
   "execution_count": null,
   "metadata": {},
   "outputs": [],
   "source": []
  }
 ],
 "metadata": {
  "kernelspec": {
   "display_name": "Python 3 (ipykernel)",
   "language": "python",
   "name": "python3"
  },
  "language_info": {
   "codemirror_mode": {
    "name": "ipython",
    "version": 3
   },
   "file_extension": ".py",
   "mimetype": "text/x-python",
   "name": "python",
   "nbconvert_exporter": "python",
   "pygments_lexer": "ipython3",
   "version": "3.9.12"
  }
 },
 "nbformat": 4,
 "nbformat_minor": 4
}
